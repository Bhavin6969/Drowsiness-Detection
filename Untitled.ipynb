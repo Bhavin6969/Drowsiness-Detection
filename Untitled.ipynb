{
 "cells": [
  {
   "cell_type": "code",
   "execution_count": 5,
   "id": "ea7fc29a",
   "metadata": {},
   "outputs": [
    {
     "name": "stdout",
     "output_type": "stream",
     "text": [
      "Hello\n"
     ]
    }
   ],
   "source": [
    "print(\"Hello\")"
   ]
  },
  {
   "cell_type": "code",
   "execution_count": 6,
   "id": "0be6d205",
   "metadata": {},
   "outputs": [
    {
     "name": "stdout",
     "output_type": "stream",
     "text": [
      "Looking in indexes: https://download.pytorch.org/whl/cu117\n",
      "Requirement already satisfied: torch in c:\\python311\\lib\\site-packages (2.0.1+cu117)\n",
      "Requirement already satisfied: torchvision in c:\\python311\\lib\\site-packages (0.15.2+cu117)\n",
      "Requirement already satisfied: torchaudio in c:\\python311\\lib\\site-packages (2.0.2+cu117)\n",
      "Requirement already satisfied: filelock in c:\\python311\\lib\\site-packages (from torch) (3.9.0)\n",
      "Requirement already satisfied: typing-extensions in c:\\python311\\lib\\site-packages (from torch) (4.7.1)\n",
      "Requirement already satisfied: sympy in c:\\python311\\lib\\site-packages (from torch) (1.11.1)\n",
      "Requirement already satisfied: networkx in c:\\python311\\lib\\site-packages (from torch) (3.0)\n",
      "Requirement already satisfied: jinja2 in c:\\python311\\lib\\site-packages (from torch) (3.1.2)\n",
      "Requirement already satisfied: numpy in c:\\python311\\lib\\site-packages (from torchvision) (1.25.2)\n",
      "Requirement already satisfied: requests in c:\\python311\\lib\\site-packages (from torchvision) (2.28.1)\n",
      "Requirement already satisfied: pillow!=8.3.*,>=5.3.0 in c:\\python311\\lib\\site-packages (from torchvision) (9.3.0)\n",
      "Requirement already satisfied: MarkupSafe>=2.0 in c:\\python311\\lib\\site-packages (from jinja2->torch) (2.1.2)\n",
      "Requirement already satisfied: charset-normalizer<3,>=2 in c:\\python311\\lib\\site-packages (from requests->torchvision) (2.1.1)\n",
      "Requirement already satisfied: idna<4,>=2.5 in c:\\python311\\lib\\site-packages (from requests->torchvision) (3.4)\n",
      "Requirement already satisfied: urllib3<1.27,>=1.21.1 in c:\\python311\\lib\\site-packages (from requests->torchvision) (1.26.13)\n",
      "Requirement already satisfied: certifi>=2017.4.17 in c:\\python311\\lib\\site-packages (from requests->torchvision) (2022.12.7)\n",
      "Requirement already satisfied: mpmath>=0.19 in c:\\python311\\lib\\site-packages (from sympy->torch) (1.2.1)\n"
     ]
    },
    {
     "name": "stderr",
     "output_type": "stream",
     "text": [
      "WARNING: Skipping C:\\Python311\\Lib\\site-packages\\mpmath-1.3.0.dist-info due to invalid metadata entry 'name'\n",
      "WARNING: Skipping C:\\Python311\\Lib\\site-packages\\mpmath-1.3.0.dist-info due to invalid metadata entry 'name'\n",
      "WARNING: Skipping C:\\Python311\\Lib\\site-packages\\mpmath-1.3.0.dist-info due to invalid metadata entry 'name'\n",
      "WARNING: Skipping C:\\Python311\\Lib\\site-packages\\mpmath-1.3.0.dist-info due to invalid metadata entry 'name'\n"
     ]
    }
   ],
   "source": [
    "!pip3 install torch torchvision torchaudio --index-url https://download.pytorch.org/whl/cu117"
   ]
  },
  {
   "cell_type": "code",
   "execution_count": 8,
   "id": "c77a6e54",
   "metadata": {},
   "outputs": [
    {
     "name": "stderr",
     "output_type": "stream",
     "text": [
      "Cloning into 'yolov5'...\n"
     ]
    }
   ],
   "source": [
    "!git clone https://github.com/ultralytics/yolov5 "
   ]
  },
  {
   "cell_type": "code",
   "execution_count": 9,
   "id": "cceb48fa",
   "metadata": {},
   "outputs": [
    {
     "name": "stdout",
     "output_type": "stream",
     "text": [
      "Collecting gitpython>=3.1.30 (from -r requirements.txt (line 5))\n",
      "  Obtaining dependency information for gitpython>=3.1.30 from https://files.pythonhosted.org/packages/67/50/742c2fb60989b76ccf7302c7b1d9e26505d7054c24f08cc7ec187faaaea7/GitPython-3.1.32-py3-none-any.whl.metadata\n",
      "  Downloading GitPython-3.1.32-py3-none-any.whl.metadata (10.0 kB)\n",
      "Collecting matplotlib>=3.3 (from -r requirements.txt (line 6))\n",
      "  Obtaining dependency information for matplotlib>=3.3 from https://files.pythonhosted.org/packages/4d/9c/65830d4a56c47f5283eaa244dc1228c5da9c844a9f999ebcc2e69bf6cc65/matplotlib-3.7.2-cp311-cp311-win_amd64.whl.metadata\n",
      "  Using cached matplotlib-3.7.2-cp311-cp311-win_amd64.whl.metadata (5.8 kB)\n",
      "Requirement already satisfied: numpy>=1.22.2 in c:\\python311\\lib\\site-packages (from -r requirements.txt (line 7)) (1.25.2)\n",
      "Collecting opencv-python>=4.1.1 (from -r requirements.txt (line 8))\n",
      "  Obtaining dependency information for opencv-python>=4.1.1 from https://files.pythonhosted.org/packages/a6/08/583e1d8d589e80a702815f58daa317bd469a32c7dc339394e2a0dc14318b/opencv_python-4.8.0.74-cp37-abi3-win_amd64.whl.metadata\n",
      "  Downloading opencv_python-4.8.0.74-cp37-abi3-win_amd64.whl.metadata (19 kB)\n",
      "Requirement already satisfied: Pillow>=7.1.2 in c:\\python311\\lib\\site-packages (from -r requirements.txt (line 9)) (9.3.0)\n",
      "Collecting psutil (from -r requirements.txt (line 10))\n",
      "  Downloading psutil-5.9.5-cp36-abi3-win_amd64.whl (255 kB)\n",
      "     ------------------------------------ 255.1/255.1 kB 313.6 kB/s eta 0:00:00\n",
      "Collecting PyYAML>=5.3.1 (from -r requirements.txt (line 11))\n",
      "  Obtaining dependency information for PyYAML>=5.3.1 from https://files.pythonhosted.org/packages/b3/34/65bb4b2d7908044963ebf614fe0fdb080773fc7030d7e39c8d3eddcd4257/PyYAML-6.0.1-cp311-cp311-win_amd64.whl.metadata\n",
      "  Downloading PyYAML-6.0.1-cp311-cp311-win_amd64.whl.metadata (2.1 kB)\n",
      "Requirement already satisfied: requests>=2.23.0 in c:\\python311\\lib\\site-packages (from -r requirements.txt (line 12)) (2.28.1)\n",
      "Collecting scipy>=1.4.1 (from -r requirements.txt (line 13))\n",
      "  Obtaining dependency information for scipy>=1.4.1 from https://files.pythonhosted.org/packages/04/b8/947f40706ee2e316fd1a191688f690c4c2b351c2d043fe9deb9b7940e36e/scipy-1.11.1-cp311-cp311-win_amd64.whl.metadata\n",
      "  Using cached scipy-1.11.1-cp311-cp311-win_amd64.whl.metadata (59 kB)\n",
      "Collecting thop>=0.1.1 (from -r requirements.txt (line 14))\n",
      "  Using cached thop-0.1.1.post2209072238-py3-none-any.whl (15 kB)\n",
      "Requirement already satisfied: torch>=1.7.0 in c:\\python311\\lib\\site-packages (from -r requirements.txt (line 15)) (2.0.1+cu117)\n",
      "Requirement already satisfied: torchvision>=0.8.1 in c:\\python311\\lib\\site-packages (from -r requirements.txt (line 16)) (0.15.2+cu117)\n",
      "Requirement already satisfied: tqdm>=4.64.0 in c:\\python311\\lib\\site-packages (from -r requirements.txt (line 17)) (4.65.0)\n",
      "Collecting ultralytics>=8.0.146 (from -r requirements.txt (line 18))\n",
      "  Obtaining dependency information for ultralytics>=8.0.146 from https://files.pythonhosted.org/packages/cf/9b/9d77d59f32edb5bb8768b7f64841f2bb5dad7ef9813f2a457528b744c809/ultralytics-8.0.146-py3-none-any.whl.metadata\n",
      "  Downloading ultralytics-8.0.146-py3-none-any.whl.metadata (28 kB)\n",
      "Collecting pandas>=1.1.4 (from -r requirements.txt (line 27))\n",
      "  Obtaining dependency information for pandas>=1.1.4 from https://files.pythonhosted.org/packages/9e/71/756a1be6bee0209d8c0d8c5e3b9fc72c00373f384a4017095ec404aec3ad/pandas-2.0.3-cp311-cp311-win_amd64.whl.metadata\n",
      "  Using cached pandas-2.0.3-cp311-cp311-win_amd64.whl.metadata (18 kB)\n",
      "Collecting seaborn>=0.11.0 (from -r requirements.txt (line 28))\n",
      "  Using cached seaborn-0.12.2-py3-none-any.whl (293 kB)\n",
      "Collecting setuptools>=65.5.1 (from -r requirements.txt (line 42))\n",
      "  Obtaining dependency information for setuptools>=65.5.1 from https://files.pythonhosted.org/packages/c7/42/be1c7bbdd83e1bfb160c94b9cafd8e25efc7400346cf7ccdbdb452c467fa/setuptools-68.0.0-py3-none-any.whl.metadata\n",
      "  Using cached setuptools-68.0.0-py3-none-any.whl.metadata (6.4 kB)\n",
      "Collecting gitdb<5,>=4.0.1 (from gitpython>=3.1.30->-r requirements.txt (line 5))\n",
      "  Using cached gitdb-4.0.10-py3-none-any.whl (62 kB)\n",
      "Collecting contourpy>=1.0.1 (from matplotlib>=3.3->-r requirements.txt (line 6))\n",
      "  Obtaining dependency information for contourpy>=1.0.1 from https://files.pythonhosted.org/packages/16/09/989b982322439faa4bafffcd669e6f942b38fee897c2664c987bcd091dec/contourpy-1.1.0-cp311-cp311-win_amd64.whl.metadata\n",
      "  Using cached contourpy-1.1.0-cp311-cp311-win_amd64.whl.metadata (5.7 kB)\n",
      "Collecting cycler>=0.10 (from matplotlib>=3.3->-r requirements.txt (line 6))\n",
      "  Using cached cycler-0.11.0-py3-none-any.whl (6.4 kB)\n",
      "Collecting fonttools>=4.22.0 (from matplotlib>=3.3->-r requirements.txt (line 6))\n",
      "  Obtaining dependency information for fonttools>=4.22.0 from https://files.pythonhosted.org/packages/bd/49/d921c3b1eca0c1a67093cbc2ce302b039df94dea9e246b43f95827f4f566/fonttools-4.41.1-cp311-cp311-win_amd64.whl.metadata\n",
      "  Downloading fonttools-4.41.1-cp311-cp311-win_amd64.whl.metadata (153 kB)\n",
      "     ------------------------------------ 153.1/153.1 kB 366.3 kB/s eta 0:00:00\n",
      "Collecting kiwisolver>=1.0.1 (from matplotlib>=3.3->-r requirements.txt (line 6))\n",
      "  Using cached kiwisolver-1.4.4-cp311-cp311-win_amd64.whl (55 kB)\n",
      "Requirement already satisfied: packaging>=20.0 in c:\\python311\\lib\\site-packages (from matplotlib>=3.3->-r requirements.txt (line 6)) (23.1)\n",
      "Collecting pyparsing<3.1,>=2.3.1 (from matplotlib>=3.3->-r requirements.txt (line 6))\n",
      "  Using cached pyparsing-3.0.9-py3-none-any.whl (98 kB)\n",
      "Collecting python-dateutil>=2.7 (from matplotlib>=3.3->-r requirements.txt (line 6))\n",
      "  Using cached python_dateutil-2.8.2-py2.py3-none-any.whl (247 kB)\n",
      "Requirement already satisfied: charset-normalizer<3,>=2 in c:\\python311\\lib\\site-packages (from requests>=2.23.0->-r requirements.txt (line 12)) (2.1.1)\n",
      "Requirement already satisfied: idna<4,>=2.5 in c:\\python311\\lib\\site-packages (from requests>=2.23.0->-r requirements.txt (line 12)) (3.4)\n",
      "Requirement already satisfied: urllib3<1.27,>=1.21.1 in c:\\python311\\lib\\site-packages (from requests>=2.23.0->-r requirements.txt (line 12)) (1.26.13)\n",
      "Requirement already satisfied: certifi>=2017.4.17 in c:\\python311\\lib\\site-packages (from requests>=2.23.0->-r requirements.txt (line 12)) (2022.12.7)\n",
      "Requirement already satisfied: filelock in c:\\python311\\lib\\site-packages (from torch>=1.7.0->-r requirements.txt (line 15)) (3.9.0)\n",
      "Requirement already satisfied: typing-extensions in c:\\python311\\lib\\site-packages (from torch>=1.7.0->-r requirements.txt (line 15)) (4.7.1)\n",
      "Requirement already satisfied: sympy in c:\\python311\\lib\\site-packages (from torch>=1.7.0->-r requirements.txt (line 15)) (1.11.1)\n",
      "Requirement already satisfied: networkx in c:\\python311\\lib\\site-packages (from torch>=1.7.0->-r requirements.txt (line 15)) (3.0)\n",
      "Requirement already satisfied: jinja2 in c:\\python311\\lib\\site-packages (from torch>=1.7.0->-r requirements.txt (line 15)) (3.1.2)\n",
      "Requirement already satisfied: colorama in c:\\python311\\lib\\site-packages (from tqdm>=4.64.0->-r requirements.txt (line 17)) (0.4.6)\n",
      "Collecting py-cpuinfo (from ultralytics>=8.0.146->-r requirements.txt (line 18))\n",
      "  Downloading py_cpuinfo-9.0.0-py3-none-any.whl (22 kB)\n",
      "Collecting pytz>=2020.1 (from pandas>=1.1.4->-r requirements.txt (line 27))\n",
      "  Downloading pytz-2023.3-py2.py3-none-any.whl (502 kB)\n",
      "     ------------------------------------ 502.3/502.3 kB 177.9 kB/s eta 0:00:00\n",
      "Collecting tzdata>=2022.1 (from pandas>=1.1.4->-r requirements.txt (line 27))\n",
      "  Downloading tzdata-2023.3-py2.py3-none-any.whl (341 kB)\n",
      "     ------------------------------------ 341.8/341.8 kB 172.5 kB/s eta 0:00:00\n",
      "Collecting smmap<6,>=3.0.1 (from gitdb<5,>=4.0.1->gitpython>=3.1.30->-r requirements.txt (line 5))\n",
      "  Using cached smmap-5.0.0-py3-none-any.whl (24 kB)\n",
      "Collecting six>=1.5 (from python-dateutil>=2.7->matplotlib>=3.3->-r requirements.txt (line 6))\n",
      "  Using cached six-1.16.0-py2.py3-none-any.whl (11 kB)\n",
      "Requirement already satisfied: MarkupSafe>=2.0 in c:\\python311\\lib\\site-packages (from jinja2->torch>=1.7.0->-r requirements.txt (line 15)) (2.1.2)\n",
      "Requirement already satisfied: mpmath>=0.19 in c:\\python311\\lib\\site-packages (from sympy->torch>=1.7.0->-r requirements.txt (line 15)) (1.2.1)\n",
      "Downloading GitPython-3.1.32-py3-none-any.whl (188 kB)\n",
      "   -------------------------------------- 188.5/188.5 kB 175.6 kB/s eta 0:00:00\n",
      "Using cached matplotlib-3.7.2-cp311-cp311-win_amd64.whl (7.5 MB)\n",
      "Downloading opencv_python-4.8.0.74-cp37-abi3-win_amd64.whl (38.1 MB)\n",
      "   ---------------------------------------- 38.1/38.1 MB 243.9 kB/s eta 0:00:00\n",
      "Downloading PyYAML-6.0.1-cp311-cp311-win_amd64.whl (144 kB)\n",
      "   -------------------------------------- 144.7/144.7 kB 268.9 kB/s eta 0:00:00\n",
      "Using cached scipy-1.11.1-cp311-cp311-win_amd64.whl (44.0 MB)\n",
      "Downloading ultralytics-8.0.146-py3-none-any.whl (605 kB)\n",
      "   -------------------------------------- 605.5/605.5 kB 448.3 kB/s eta 0:00:00\n",
      "Downloading pandas-2.0.3-cp311-cp311-win_amd64.whl (10.6 MB)\n",
      "   ---------------------------------------- 10.6/10.6 MB 124.4 kB/s eta 0:00:00\n",
      "Using cached setuptools-68.0.0-py3-none-any.whl (804 kB)\n",
      "Using cached contourpy-1.1.0-cp311-cp311-win_amd64.whl (470 kB)\n",
      "Downloading fonttools-4.41.1-cp311-cp311-win_amd64.whl (2.1 MB)\n",
      "   ---------------------------------------- 2.1/2.1 MB 126.0 kB/s eta 0:00:00\n",
      "Installing collected packages: pytz, py-cpuinfo, tzdata, smmap, six, setuptools, scipy, PyYAML, pyparsing, psutil, opencv-python, kiwisolver, fonttools, cycler, contourpy, python-dateutil, gitdb, thop, pandas, matplotlib, gitpython, seaborn, ultralytics\n",
      "  Attempting uninstall: setuptools\n",
      "    Found existing installation: setuptools 65.5.0\n",
      "    Uninstalling setuptools-65.5.0:\n",
      "      Successfully uninstalled setuptools-65.5.0\n",
      "Successfully installed PyYAML-6.0.1 contourpy-1.1.0 cycler-0.11.0 fonttools-4.41.1 gitdb-4.0.10 gitpython-3.1.32 kiwisolver-1.4.4 matplotlib-3.7.2 opencv-python-4.8.0.74 pandas-2.0.3 psutil-5.9.5 py-cpuinfo-9.0.0 pyparsing-3.0.9 python-dateutil-2.8.2 pytz-2023.3 scipy-1.11.1 seaborn-0.12.2 setuptools-68.0.0 six-1.16.0 smmap-5.0.0 thop-0.1.1.post2209072238 tzdata-2023.3 ultralytics-8.0.146\n"
     ]
    },
    {
     "name": "stderr",
     "output_type": "stream",
     "text": [
      "WARNING: Skipping C:\\Python311\\Lib\\site-packages\\mpmath-1.3.0.dist-info due to invalid metadata entry 'name'\n",
      "WARNING: Skipping C:\\Python311\\Lib\\site-packages\\mpmath-1.3.0.dist-info due to invalid metadata entry 'name'\n",
      "WARNING: Skipping C:\\Python311\\Lib\\site-packages\\mpmath-1.3.0.dist-info due to invalid metadata entry 'name'\n",
      "    WARNING: Skipping C:\\Python311\\Lib\\site-packages\\mpmath-1.3.0.dist-info due to invalid metadata entry 'name'\n",
      "WARNING: Skipping C:\\Python311\\Lib\\site-packages\\mpmath-1.3.0.dist-info due to invalid metadata entry 'name'\n",
      "WARNING: Skipping C:\\Python311\\Lib\\site-packages\\mpmath-1.3.0.dist-info due to invalid metadata entry 'name'\n",
      "WARNING: Skipping C:\\Python311\\Lib\\site-packages\\mpmath-1.3.0.dist-info due to invalid metadata entry 'name'\n",
      "WARNING: Skipping C:\\Python311\\Lib\\site-packages\\mpmath-1.3.0.dist-info due to invalid metadata entry 'name'\n",
      "WARNING: Skipping C:\\Python311\\Lib\\site-packages\\mpmath-1.3.0.dist-info due to invalid metadata entry 'name'\n",
      "WARNING: Skipping C:\\Python311\\Lib\\site-packages\\mpmath-1.3.0.dist-info due to invalid metadata entry 'name'\n",
      "WARNING: Skipping C:\\Python311\\Lib\\site-packages\\mpmath-1.3.0.dist-info due to invalid metadata entry 'name'\n",
      "WARNING: Skipping C:\\Python311\\Lib\\site-packages\\mpmath-1.3.0.dist-info due to invalid metadata entry 'name'\n",
      "WARNING: Skipping C:\\Python311\\Lib\\site-packages\\mpmath-1.3.0.dist-info due to invalid metadata entry 'name'\n",
      "WARNING: Skipping C:\\Python311\\Lib\\site-packages\\mpmath-1.3.0.dist-info due to invalid metadata entry 'name'\n",
      "WARNING: Skipping C:\\Python311\\Lib\\site-packages\\mpmath-1.3.0.dist-info due to invalid metadata entry 'name'\n",
      "WARNING: Skipping C:\\Python311\\Lib\\site-packages\\mpmath-1.3.0.dist-info due to invalid metadata entry 'name'\n",
      "WARNING: Skipping C:\\Python311\\Lib\\site-packages\\mpmath-1.3.0.dist-info due to invalid metadata entry 'name'\n",
      "WARNING: Skipping C:\\Python311\\Lib\\site-packages\\mpmath-1.3.0.dist-info due to invalid metadata entry 'name'\n",
      "WARNING: Skipping C:\\Python311\\Lib\\site-packages\\mpmath-1.3.0.dist-info due to invalid metadata entry 'name'\n",
      "WARNING: Skipping C:\\Python311\\Lib\\site-packages\\mpmath-1.3.0.dist-info due to invalid metadata entry 'name'\n",
      "WARNING: Skipping C:\\Python311\\Lib\\site-packages\\mpmath-1.3.0.dist-info due to invalid metadata entry 'name'\n"
     ]
    }
   ],
   "source": [
    "!cd yolov5 & pip install -r requirements.txt "
   ]
  },
  {
   "cell_type": "code",
   "execution_count": null,
   "id": "3a070f4c",
   "metadata": {},
   "outputs": [],
   "source": [
    "import torch"
   ]
  }
 ],
 "metadata": {
  "kernelspec": {
   "display_name": "Python 3 (ipykernel)",
   "language": "python",
   "name": "python3"
  },
  "language_info": {
   "codemirror_mode": {
    "name": "ipython",
    "version": 3
   },
   "file_extension": ".py",
   "mimetype": "text/x-python",
   "name": "python",
   "nbconvert_exporter": "python",
   "pygments_lexer": "ipython3",
   "version": "3.10.5"
  }
 },
 "nbformat": 4,
 "nbformat_minor": 5
}
